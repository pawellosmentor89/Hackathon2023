{
 "cells": [
  {
   "cell_type": "code",
   "execution_count": 28,
   "metadata": {},
   "outputs": [],
   "source": [
    "import numpy as np\n",
    "import pandas as pd\n",
    "import matplotlib.pyplot as plt\n",
    "import cv2"
   ]
  },
  {
   "cell_type": "code",
   "execution_count": null,
   "metadata": {},
   "outputs": [],
   "source": []
  },
  {
   "cell_type": "code",
   "execution_count": null,
   "metadata": {},
   "outputs": [],
   "source": []
  },
  {
   "cell_type": "code",
   "execution_count": 34,
   "metadata": {},
   "outputs": [
    {
     "name": "stdout",
     "output_type": "stream",
     "text": [
      "The result of the prediction will be storage in the result_prediction.csv\n"
     ]
    }
   ],
   "source": [
    "import numpy as np\n",
    "from tifffile import imread\n",
    "from sklearn.linear_model import LinearRegression\n",
    "import csv\n",
    "\n",
    "image_2011 = imread('diff_Rybnik_19_11.tif')\n",
    "image_2019 = imread('diff_Rybnik_21_19.tif')\n",
    "image_2022 = imread('diff_Rybnik_22_19.tif')\n",
    "\n",
    "x = np.array([100, 200, 300])\n",
    "y = np.array([50, 150, 250])\n",
    "\n",
    "X = np.vstack((image_2011[x, y], image_2019[x, y], image_2022[x, y])).T\n",
    "y_pred = image_2022[x, y]\n",
    "\n",
    "model = LinearRegression()\n",
    "model.fit(X, y_pred)\n",
    "\n",
    "image_2021 = imread('diff_Rybnik_22_21.tif')\n",
    "\n",
    "\n",
    "with open('result_prediction.csv', 'w', newline='') as csvfile:\n",
    "    fieldnames = ['i', 'j', 'prediction']\n",
    "    writer = csv.DictWriter(csvfile, fieldnames=fieldnames)\n",
    "    writer.writeheader()\n",
    "\n",
    "    for i in range(image_2021.shape[0]):\n",
    "        for j in range(image_2021.shape[1]):\n",
    "            X_test = np.array([image_2011[x[0], y[0]], image_2019[x[1], y[1]], image_2021[i, j]]).reshape(1, -1)\n",
    "            X_test = X_test / np.max(X)\n",
    "            y_pred_test = model.predict(X_test)\n",
    "            writer.writerow({'i': i, 'j': j, 'prediction': y_pred_test[0]})\n",
    "\n",
    "print(\"The result of the prediction will be storage in the result_prediction.csv\")\n"
   ]
  },
  {
   "cell_type": "code",
   "execution_count": 32,
   "metadata": {},
   "outputs": [
    {
     "name": "stdout",
     "output_type": "stream",
     "text": [
      "The result of the prediction will be stored in the result_prediction.csv\n"
     ]
    }
   ],
   "source": [
    "import numpy as np\n",
    "from tifffile import imread\n",
    "from sklearn.linear_model import LinearRegression\n",
    "import csv\n",
    "\n",
    "image_2011 = imread('diff_Rybnik_19_11.tif')\n",
    "image_2019 = imread('diff_Rybnik_21_19.tif')\n",
    "image_2022 = imread('diff_Rybnik_22_19.tif')\n",
    "\n",
    "x = np.array([100, 200, 300])\n",
    "y = np.array([50, 150, 250])\n",
    "\n",
    "X = np.vstack((image_2011[x, y], image_2019[x, y], image_2022[x, y])).T\n",
    "y_pred = image_2022[x, y]\n",
    "\n",
    "model = LinearRegression()\n",
    "model.fit(X, y_pred)\n",
    "\n",
    "image_2021 = imread('diff_Rybnik_22_21.tif')\n",
    "\n",
    "with open('result_prediction.csv', 'w', newline='') as csvfile:\n",
    "    fieldnames = ['i', 'j', 'prediction']\n",
    "    writer = csv.DictWriter(csvfile, fieldnames=fieldnames)\n",
    "    writer.writeheader()\n",
    "\n",
    "    for i in range(image_2021.shape[0]):\n",
    "        for j in range(image_2021.shape[1]):\n",
    "            X_test = np.array([image_2011[x[0], y[0]], image_2019[x[1], y[1]], image_2021[i, j]]).reshape(1, -1)\n",
    "            X_test = X_test / np.max(X)\n",
    "            y_pred_test = model.predict(X_test)\n",
    "            writer.writerow({'i': i, 'j': j, 'prediction': y_pred_test[0]})\n",
    "\n",
    "print(\"The result of the prediction will be stored in the result_prediction.csv\")\n"
   ]
  },
  {
   "cell_type": "code",
   "execution_count": null,
   "metadata": {},
   "outputs": [],
   "source": []
  },
  {
   "cell_type": "code",
   "execution_count": 18,
   "metadata": {},
   "outputs": [],
   "source": []
  }
 ],
 "metadata": {
  "kernelspec": {
   "display_name": "Python 3",
   "language": "python",
   "name": "python3"
  },
  "language_info": {
   "codemirror_mode": {
    "name": "ipython",
    "version": 3
   },
   "file_extension": ".py",
   "mimetype": "text/x-python",
   "name": "python",
   "nbconvert_exporter": "python",
   "pygments_lexer": "ipython3",
   "version": "3.9.13"
  },
  "orig_nbformat": 4
 },
 "nbformat": 4,
 "nbformat_minor": 2
}
